{
 "cells": [
  {
   "metadata": {},
   "cell_type": "markdown",
   "source": [
    "# Instruction to lab work # 3: \"Realization training on multilayer neural network\"\n",
    "\n",
    "> Student name    - Volodymyr\n",
    "\n",
    "> Student surname - Donets\n",
    "\n",
    "> Group           - KU-31\n"
   ],
   "id": "ab05a26777df2ffc"
  },
  {
   "metadata": {},
   "cell_type": "markdown",
   "source": "",
   "id": "33240fdc92d60ef8"
  },
  {
   "metadata": {},
   "cell_type": "markdown",
   "source": [
    "# Tasks of the work\n",
    "\n",
    "1. Done with the 2nd lab work it's essential for understanding the 3rd. \n",
    "2. Analyze example of such realization in the `example` folder. Make sure to understand each step of the work.\n",
    "3. Select a dataset from the list of available classification datasets.\n",
    "4. Do basic data preparation & visualization, do NOT forget to normalize numerical data (it might have influence on the speed with which your model learns)\n",
    "5. Considering your number in your group list choose architecture of your neural network from the list of architectures and loss functions.\n",
    "6. Overall architecture as used loss function are mandatory, but number of neurons at each layer set manually, and number of neurons of the last layer depends on your chosen dataset.\n"
   ],
   "id": "1a4be991d7ae5199"
  },
  {
   "metadata": {},
   "cell_type": "markdown",
   "source": [
    "# List of available datasets (same as in the ML Basic course)\n",
    "\n",
    "1. [Liver Cirrhosis Stage Classification](https://www.kaggle.com/datasets/aadarshvelu/liver-cirrhosis-stage-classification)\n",
    "2. [Star Dataset for Stellar Classification](https://www.kaggle.com/datasets/vinesmsuic/star-categorization-giants-and-dwarfs)\n",
    "3. [Fitness Classification Dataset](https://www.kaggle.com/datasets/muhammedderric/fitness-classification-dataset-synthetic)\n",
    "4. [ECG Arrhythmia Classification Dataset](https://www.kaggle.com/datasets/sadmansakib7/ecg-arrhythmia-classification-dataset)\n",
    "5. [Mushroom Classification Enhanced](https://www.kaggle.com/datasets/sakurapuare/mushroom-classification-enhanced)\n",
    "6. [Dry Bean Dataset Classification](https://www.kaggle.com/datasets/nimapourmoradi/dry-bean-dataset-classification)\n",
    "7. [Swarm Behaviour Classification](https://www.kaggle.com/datasets/deepcontractor/swarm-behaviour-classification) -- challenging one 270 Mb dataset\n",
    "8. [Anemia Types Classification](https://www.kaggle.com/datasets/ehababoelnaga/anemia-types-classification)\n",
    "9. [NASA: Asteroids Classification](https://www.kaggle.com/datasets/shrutimehta/nasa-asteroids-classification)"
   ],
   "id": "d51ed7bdacdaae57"
  },
  {
   "metadata": {},
   "cell_type": "markdown",
   "source": [
    "# List of neural network architectures & loss functions to use.\n",
    "\n",
    "1.  **1 layer (Leaky ReLU) -> 2 layer (Leaky ReLU) -> 3 layer (Leaky ReLU) -> 4 layer (Leaky ReLU) -> out layer (Softmax);** **Loss:** Mean Absolute Error (MAE)\n",
    "2.  **1 layer (ReLU) -> out layer (Softmax);** **Loss:** Mean Squared Error (MSE)\n",
    "3.  **1 layer (Tanh) -> 2 layer (ReLU) -> 3 layer (Tanh) -> out layer (Softmax);** **Loss:** Categorical Cross-Entropy\n",
    "4.  **1 layer (Leaky ReLU) -> out layer (Softmax);** **Loss:** Categorical Cross-Entropy\n",
    "5.  **1 layer (Sigmoid) -> out layer (Softmax);** **Loss:** Categorical Cross-Entropy\n",
    "6.  **1 layer (ReLU) -> 2 layer (ReLU) -> 3 layer (ReLU) -> 4 layer (ReLU) -> 5 layer (ReLU) -> out layer (Softmax);** **Loss:** Mean Absolute Error (MAE)\n",
    "7.  **1 layer (Tanh) -> out layer (Softmax);** **Loss:** Categorical Cross-Entropy\n",
    "8.  **1 layer (ReLU) -> 2 layer (ReLU) -> out layer (Softmax);** **Loss:** Mean Absolute Error (MAE)\n",
    "9.  **1 layer (Leaky ReLU) -> 2 layer (Leaky ReLU) -> out layer (Softmax);** **Loss:** Mean Squared Error (MSE)\n",
    "10. **1 layer (Tanh) -> 2 layer (Tanh) -> 3 layer (Tanh) -> 4 layer (Tanh) -> out layer (Softmax);** **Loss:** Categorical Cross-Entropy\n",
    "11. **1 layer (Sigmoid) -> 2 layer (ReLU) -> 3 layer (ReLU) -> out layer (Softmax);** **Loss:** Categorical Cross-Entropy\n",
    "12. **1 layer (ReLU) -> 2 layer (ReLU) -> 3 layer (ReLU) -> out layer (Softmax);** **Loss:** Mean Squared Error (MSE)\n",
    "13. **1 layer (ReLU) -> 2 layer (ReLU) -> out layer (Softmax);** **Loss:** Mean Absolute Error (MAE)\n",
    "14. **1 layer (Leaky ReLU) -> 2 layer (ReLU) -> 3 layer (Leaky ReLU) -> 4 layer (ReLU) -> out layer (Softmax);** **Loss:** Categorical Cross-Entropy\n",
    "15. **1 layer (Tanh) -> 2 layer (Tanh) -> out layer (Softmax);** **Loss:** Categorical Cross-Entropy\n",
    "16. **1 layer (ReLU) -> 2 layer (Leaky ReLU) -> out layer (Softmax);** **Loss:** Categorical Cross-Entropy\n",
    "17. **1 layer (Leaky ReLU) -> 2 layer (Leaky ReLU) -> 3 layer (Leaky ReLU) -> 4 layer (Leaky ReLU) -> 5 layer (Leaky ReLU) -> out layer (Softmax);** **Loss:** Mean Absolute Error (MAE)\n",
    "18. **1 layer (ReLU) -> 2 layer (ReLU) -> 3 layer (ReLU) -> 4 layer (ReLU) -> out layer (Softmax);** **Loss:** Categorical Cross-Entropy\n",
    "19. **1 layer (Tanh) -> 2 layer (ReLU) -> out layer (Softmax);** **Loss:** Mean Squared Error (MSE)\n",
    "20. **1 layer (Sigmoid) -> 2 layer (Sigmoid) -> out layer (Softmax);** **Loss:** Categorical Cross-Entropy\n",
    "21. **1 layer (ReLU) -> out layer (Softmax);** **Loss:** Mean Absolute Error (MAE)\n",
    "22. **1 layer (Leaky ReLU) -> 2 layer (Leaky ReLU) -> 3 layer (Leaky ReLU) -> out layer (Softmax);** **Loss:** Categorical Cross-Entropy\n",
    "23. **1 layer (Tanh) -> 2 layer (ReLU) -> 3 layer (Tanh) -> 4 layer (ReLU) -> 5 layer (Tanh) -> out layer (Softmax);** **Loss:** CMean Absolute Error (MAE)\n",
    "24. **1 layer (ReLU) -> 2 layer (ReLU) -> 3 layer (Sigmoid) -> 4 layer (ReLU) -> out layer (Softmax);** **Loss:** Categorical Cross-Entropy\n",
    "25. **1 layer (ReLU) -> 2 layer (ReLU) -> 3 layer (ReLU) -> out layer (Softmax);** **Loss:** Mean Squared Error (MSE)"
   ],
   "id": "8cb4b1743afffec8"
  },
  {
   "metadata": {},
   "cell_type": "code",
   "outputs": [],
   "execution_count": null,
   "source": "",
   "id": "807b70b675e060b6"
  },
  {
   "metadata": {},
   "cell_type": "code",
   "outputs": [],
   "execution_count": null,
   "source": "",
   "id": "962dae3103ed74ac"
  },
  {
   "metadata": {},
   "cell_type": "code",
   "outputs": [],
   "execution_count": null,
   "source": "",
   "id": "1dd3553495b4d26c"
  }
 ],
 "metadata": {
  "kernelspec": {
   "display_name": "Python 3",
   "language": "python",
   "name": "python3"
  },
  "language_info": {
   "codemirror_mode": {
    "name": "ipython",
    "version": 2
   },
   "file_extension": ".py",
   "mimetype": "text/x-python",
   "name": "python",
   "nbconvert_exporter": "python",
   "pygments_lexer": "ipython2",
   "version": "2.7.6"
  }
 },
 "nbformat": 4,
 "nbformat_minor": 5
}
